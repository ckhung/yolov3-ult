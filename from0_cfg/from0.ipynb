{
  "nbformat": 4,
  "nbformat_minor": 0,
  "metadata": {
    "colab": {
      "name": "from0.ipynb",
      "provenance": [],
      "collapsed_sections": []
    },
    "kernelspec": {
      "name": "python3",
      "display_name": "Python 3"
    },
    "accelerator": "GPU"
  },
  "cells": [
    {
      "cell_type": "code",
      "metadata": {
        "id": "rh3_99pj0fMQ",
        "colab_type": "code",
        "outputId": "84816e82-3447-403d-fc55-cc481d99e671",
        "colab": {
          "base_uri": "https://localhost:8080/",
          "height": 122
        }
      },
      "source": [
        "from google.colab import drive\n",
        "drive.mount('/content/drive/', force_remount=True)\n"
      ],
      "execution_count": 1,
      "outputs": [
        {
          "output_type": "stream",
          "text": [
            "Go to this URL in a browser: \n",
            "\n",
            "Enter your authorization code:\n",
            "··········\n",
            "Mounted at /content/drive/\n"
          ],
          "name": "stdout"
        }
      ]
    },
    {
      "cell_type": "code",
      "metadata": {
        "id": "yPUjuAtVUXA_",
        "colab_type": "code",
        "outputId": "61127c45-7a22-4d25-8b1d-c80ceb858701",
        "colab": {
          "base_uri": "https://localhost:8080/",
          "height": 136
        }
      },
      "source": [
        "! rm -f /d ; ln -s '/content/drive/My Drive/colab/dataset/cdc' /d ; ls -ld /d\n",
        "! rm -f /c ; ln -s '/content/drive/My Drive/colab/yolov3-ult' /c ; ls -ld /c\n",
        "! rm -f /i ; ln -s '/content/drive/My Drive/colab/img' /i ; ls -ld /i\n",
        "! ls -ld $(grep -Po '/.*' /c/from0_cfg/from0-data.txt)"
      ],
      "execution_count": 5,
      "outputs": [
        {
          "output_type": "stream",
          "text": [
            "lrwxrwxrwx 1 root root 41 Dec 11 14:54 /d -> '/content/drive/My Drive/colab/dataset/cdc'\n",
            "lrwxrwxrwx 1 root root 40 Dec 11 14:54 /c -> '/content/drive/My Drive/colab/yolov3-ult'\n",
            "lrwxrwxrwx 1 root root 33 Dec 11 14:54 /i -> '/content/drive/My Drive/colab/img'\n",
            "-rw------- 1 root root   104 Dec 11 14:28 /c/from0_cfg/classes.txt\n",
            "-rw------- 1 root root 66903 Dec 11 14:43 /c/from0_cfg/train.txt\n",
            "-rw------- 1 root root 13384 Dec 11 14:43 /c/from0_cfg/valid.txt\n",
            "drwx------ 2 root root  4096 Nov 28 05:55 /d/bu-from0/\n"
          ],
          "name": "stdout"
        }
      ]
    },
    {
      "cell_type": "code",
      "metadata": {
        "id": "KSConDAKVtav",
        "colab_type": "code",
        "colab": {}
      },
      "source": [
        "import os, time\n",
        "os.chdir('/c')\n",
        "os.environ['TZ'] = 'Asia/Taipei'\n",
        "time.tzset()\n"
      ],
      "execution_count": 0,
      "outputs": []
    },
    {
      "cell_type": "code",
      "metadata": {
        "id": "VopYco7cO_5q",
        "colab_type": "code",
        "outputId": "1ccdfbcb-21f4-430f-9c8b-5add7d1005ac",
        "colab": {
          "base_uri": "https://localhost:8080/",
          "height": 425
        }
      },
      "source": [
        "! python3 detect.py -h"
      ],
      "execution_count": 8,
      "outputs": [
        {
          "output_type": "stream",
          "text": [
            "usage: detect.py [-h] [--cfg CFG] [--data DATA] [--weights WEIGHTS]\n",
            "                 [--source SOURCE] [--output OUTPUT] [--img-size IMG_SIZE]\n",
            "                 [--conf-thres CONF_THRES] [--nms-thres NMS_THRES]\n",
            "                 [--fourcc FOURCC] [--half] [--device DEVICE] [--view-img]\n",
            "\n",
            "optional arguments:\n",
            "  -h, --help            show this help message and exit\n",
            "  --cfg CFG             cfg file path (default: cfg/yolov3-spp.cfg)\n",
            "  --data DATA           coco.data file path (default: data/coco.data)\n",
            "  --weights WEIGHTS     path to weights file (default:\n",
            "                        weights/yolov3-spp.weights)\n",
            "  --source SOURCE       source (default: data/samples)\n",
            "  --output OUTPUT       output folder (default: output)\n",
            "  --img-size IMG_SIZE   inference size (pixels) (default: 416)\n",
            "  --conf-thres CONF_THRES\n",
            "                        object confidence threshold (default: 0.3)\n",
            "  --nms-thres NMS_THRES\n",
            "                        iou threshold for non-maximum suppression (default:\n",
            "                        0.5)\n",
            "  --fourcc FOURCC       output video codec (verify ffmpeg support) (default:\n",
            "                        mp4v)\n",
            "  --half                half precision FP16 inference (default: False)\n",
            "  --device DEVICE       device id (i.e. 0 or 0,1) or cpu (default: )\n",
            "  --view-img            display results (default: False)\n"
          ],
          "name": "stdout"
        }
      ]
    },
    {
      "cell_type": "code",
      "metadata": {
        "id": "z1bLj4SndoT7",
        "colab_type": "code",
        "colab": {
          "base_uri": "https://localhost:8080/",
          "height": 207
        },
        "outputId": "812342a9-031e-4144-f16a-540ade837312"
      },
      "source": [
        "! python3 detect.py --cfg cfg/yolov3-spp.cfg --weights weights/yolov3-spp.weights --source /i"
      ],
      "execution_count": 9,
      "outputs": [
        {
          "output_type": "stream",
          "text": [
            "Namespace(cfg='cfg/yolov3-spp.cfg', conf_thres=0.3, data='data/coco.data', device='', fourcc='mp4v', half=False, img_size=416, nms_thres=0.5, output='output', source='/i', view_img=False, weights='weights/yolov3-spp.weights')\n",
            "Using CUDA device0 _CudaDeviceProperties(name='Tesla K80', total_memory=11441MB)\n",
            "\n",
            "image 1/5 /i/bike.jpg: 288x416 Done. (0.080s)\n",
            "image 2/5 /i/obama-park.jpg: 256x416 Done. (0.069s)\n",
            "image 3/5 /i/ped-xing.jpg: 224x416 Done. (0.063s)\n",
            "image 4/5 /i/rainbow-waterfall.jpg: 288x416 Done. (0.075s)\n",
            "image 5/5 /i/zebra-gazelle.jpg: 192x416 Done. (0.058s)\n",
            "Results saved to /content/drive/My Drive/colab/yolov3-ult/output\n",
            "Done. (2.042s)\n"
          ],
          "name": "stdout"
        }
      ]
    },
    {
      "cell_type": "code",
      "metadata": {
        "id": "S3tjEBeCrwn_",
        "colab_type": "code",
        "outputId": "155989f2-c184-4e9b-d64b-63cb0ba974a2",
        "colab": {
          "base_uri": "https://localhost:8080/",
          "height": 134
        }
      },
      "source": [
        "! date ; time python3 train.py --bkevery 10 --resume --batch-size 16 --data from0_cfg/from0-data.txt ; date"
      ],
      "execution_count": 0,
      "outputs": [
        {
          "output_type": "stream",
          "text": [
            "Wed Dec 11 22:57:59 CST 2019\n",
            "Namespace(accumulate=2, adam=False, arc='default', batch_size=16, bkevery=10, bucket='', cache_images=False, cfg='cfg/yolov3-spp.cfg', data='from0_cfg/from0-data.txt', device='', epochs=273, evolve=False, img_size=416, img_weights=False, multi_scale=False, name='', notest=False, prebias=False, rect=False, resume=True, transfer=False, var=None, weights='/d/bu-from0/last.pt')\n",
            "Using CUDA device0 _CudaDeviceProperties(name='Tesla K80', total_memory=11441MB)\n",
            "\n",
            "Reading labels:   0% 0/2217 [00:00<?, ?it/s]"
          ],
          "name": "stdout"
        }
      ]
    },
    {
      "cell_type": "code",
      "metadata": {
        "id": "n1UgsGpFsNP9",
        "colab_type": "code",
        "outputId": "e7409b22-31e7-4175-d2d2-be432a3f89f8",
        "colab": {
          "base_uri": "https://localhost:8080/",
          "height": 204
        }
      },
      "source": [
        "! bash"
      ],
      "execution_count": 0,
      "outputs": [
        {
          "output_type": "stream",
          "text": [
            "bash: cannot set terminal process group (150): Inappropriate ioctl for device\n",
            "bash: no job control in this shell\n",
            "\u001b]0;root@b2065cab460b: /content/drive/My Drive/colab/yolov3/ultralytics\u0007\u001b[01;32mroot@b2065cab460b\u001b[00m:\u001b[01;34m/content/drive/My Drive/colab/yolov3/ultralytics\u001b[00m# cd /d/cdc\n",
            "\u001b]0;root@b2065cab460b: /d/cdc\u0007\u001b[01;32mroot@b2065cab460b\u001b[00m:\u001b[01;34m/d/cdc\u001b[00m# cd bu1\n",
            "\u001b]0;root@b2065cab460b: /d/cdc/bu1\u0007\u001b[01;32mroot@b2065cab460b\u001b[00m:\u001b[01;34m/d/cdc/bu1\u001b[00m# ls\n",
            "backup260.pt  backup270.pt  last.pt\n",
            "\u001b]0;root@b2065cab460b: /d/cdc/bu1\u0007\u001b[01;32mroot@b2065cab460b\u001b[00m:\u001b[01;34m/d/cdc/bu1\u001b[00m# rm backup270.pt\n",
            "\u001b]0;root@b2065cab460b: /d/cdc/bu1\u0007\u001b[01;32mroot@b2065cab460b\u001b[00m:\u001b[01;34m/d/cdc/bu1\u001b[00m# cp backup260.pt last.pt\n",
            "exit\n",
            "\u001b]0;root@b2065cab460b: /d/cdc/bu1\u0007\u001b[01;32mroot@b2065cab460b\u001b[00m:\u001b[01;34m/d/cdc/bu1\u001b[00m# exit\n",
            "exit\n"
          ],
          "name": "stdout"
        }
      ]
    },
    {
      "cell_type": "code",
      "metadata": {
        "id": "qA_H91qs7IFG",
        "colab_type": "code",
        "colab": {}
      },
      "source": [
        ""
      ],
      "execution_count": 0,
      "outputs": []
    }
  ]
}
