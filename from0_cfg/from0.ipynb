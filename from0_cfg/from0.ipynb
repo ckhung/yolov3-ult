{
  "nbformat": 4,
  "nbformat_minor": 0,
  "metadata": {
    "colab": {
      "name": "u1.ipynb",
      "provenance": [],
      "collapsed_sections": []
    },
    "kernelspec": {
      "name": "python3",
      "display_name": "Python 3"
    },
    "accelerator": "GPU"
  },
  "cells": [
    {
      "cell_type": "code",
      "metadata": {
        "id": "rh3_99pj0fMQ",
        "colab_type": "code",
        "outputId": "700aa291-947d-4237-a6d0-2a5c469bf4e4",
        "colab": {
          "base_uri": "https://localhost:8080/",
          "height": 122
        }
      },
      "source": [
        "from google.colab import drive\n",
        "drive.mount('/content/drive/', force_remount=True)\n"
      ],
      "execution_count": 1,
      "outputs": [
        {
          "output_type": "stream",
          "text": [
            "Go to this URL in a browser: https://accounts.google.com/o/oauth2/auth?client_id=947318989803-6bn6qk8qdgf4n4g3pfee6491hc0brc4i.apps.googleusercontent.com&redirect_uri=urn%3aietf%3awg%3aoauth%3a2.0%3aoob&response_type=code&scope=email%20https%3a%2f%2fwww.googleapis.com%2fauth%2fdocs.test%20https%3a%2f%2fwww.googleapis.com%2fauth%2fdrive%20https%3a%2f%2fwww.googleapis.com%2fauth%2fdrive.photos.readonly%20https%3a%2f%2fwww.googleapis.com%2fauth%2fpeopleapi.readonly\n",
            "\n",
            "Enter your authorization code:\n",
            "··········\n",
            "Mounted at /content/drive/\n"
          ],
          "name": "stdout"
        }
      ]
    },
    {
      "cell_type": "code",
      "metadata": {
        "id": "yPUjuAtVUXA_",
        "colab_type": "code",
        "outputId": "5e7dcc09-63be-4c97-e411-a68b1026a87b",
        "colab": {
          "base_uri": "https://localhost:8080/",
          "height": 119
        }
      },
      "source": [
        "! ln -sf '/content/drive/My Drive/colab/dataset' /d ; ls -ld /d\n",
        "! ln -sf '/content/drive/My Drive/colab/yolov3/ultralytics' /u ; ls -ld /u\n",
        "! ls -ld $(grep -Po '/.*' /d/cdc/config/u1.data)"
      ],
      "execution_count": 2,
      "outputs": [
        {
          "output_type": "stream",
          "text": [
            "lrwxrwxrwx 1 root root 37 Nov 17 09:04 /d -> '/content/drive/My Drive/colab/dataset'\n",
            "lrwxrwxrwx 1 root root 48 Nov 17 09:04 /u -> '/content/drive/My Drive/colab/yolov3/ultralytics'\n",
            "drwx------ 2 root root  4096 Nov 14 11:38 /d/cdc/bu1/\n",
            "-rw------- 1 root root   104 Nov 13 10:52 /d/cdc/config/classes.names\n",
            "-rw------- 1 root root 75771 Nov 12 10:10 /d/cdc/config/train.txt\n",
            "-rw------- 1 root root 15156 Nov 12 10:09 /d/cdc/config/valid.txt\n"
          ],
          "name": "stdout"
        }
      ]
    },
    {
      "cell_type": "code",
      "metadata": {
        "id": "KSConDAKVtav",
        "colab_type": "code",
        "colab": {}
      },
      "source": [
        "import os, time\n",
        "os.chdir('/u')\n",
        "os.environ['TZ'] = 'Asia/Taipei'\n",
        "time.tzset()\n"
      ],
      "execution_count": 0,
      "outputs": []
    },
    {
      "cell_type": "code",
      "metadata": {
        "id": "VopYco7cO_5q",
        "colab_type": "code",
        "outputId": "781c0310-0c50-4c3b-f4e5-b47b0e9c8676",
        "colab": {
          "base_uri": "https://localhost:8080/",
          "height": 156
        }
      },
      "source": [
        "! python3 detect.py"
      ],
      "execution_count": 4,
      "outputs": [
        {
          "output_type": "stream",
          "text": [
            "Namespace(cfg='cfg/yolov3-spp.cfg', conf_thres=0.3, data='data/coco.data', device='', fourcc='mp4v', half=False, img_size=416, nms_thres=0.5, output='output', source='data/samples', view_img=False, weights='weights/yolov3-spp.weights')\n",
            "Using CUDA device0 _CudaDeviceProperties(name='Tesla P100-PCIE-16GB', total_memory=16280MB)\n",
            "\n",
            "image 1/2 data/samples/bus.jpg: 416x320 4 persons, 1 buss, 1 handbags, Done. (0.235s)\n",
            "image 2/2 data/samples/zidane.jpg: 256x416 2 persons, 1 ties, Done. (0.022s)\n",
            "Results saved to /content/drive/My Drive/colab/yolov3/ultralytics/output\n",
            "Done. (1.142s)\n"
          ],
          "name": "stdout"
        }
      ]
    },
    {
      "cell_type": "code",
      "metadata": {
        "id": "S3tjEBeCrwn_",
        "colab_type": "code",
        "outputId": "403c9c80-d9f5-41f4-b1ee-573787ef6343",
        "colab": {
          "base_uri": "https://localhost:8080/",
          "height": 219
        }
      },
      "source": [
        "! date ; time python3 train.py --cfg /d/cdc/config/yolov3-spp-cdc.cfg --bkevery 10 --resume --batch-size 16 --data /d/cdc/config/from0.data ; date"
      ],
      "execution_count": 0,
      "outputs": [
        {
          "output_type": "stream",
          "text": [
            "Sun Nov 17 17:32:53 CST 2019\n",
            "Namespace(accumulate=2, adam=False, arc='default', batch_size=16, bkevery=10, bucket='', cache_images=False, cfg='/d/cdc/config/yolov3-spp-cdc.cfg', data='/d/cdc/config/from0.data', device='', epochs=273, evolve=False, img_size=416, img_weights=False, multi_scale=False, name='', notest=False, prebias=False, rect=False, resume=True, transfer=False, var=None, weights='/d/cdc/bu1/last.pt')\n",
            "Using CUDA device0 _CudaDeviceProperties(name='Tesla P100-PCIE-16GB', total_memory=16280MB)\n",
            "\n",
            "Reading labels (2217 found, 0 missing, 0 empty for 2217 images): 100% 2217/2217 [00:02<00:00, 981.70it/s]\n",
            "Model Summary: 225 layers, 6.2638e+07 parameters, 6.2638e+07 gradients\n",
            "Starting training for 273 epochs...\n",
            "\n",
            "     Epoch   gpu_mem      GIoU       obj       cls     total   targets  img_size\n",
            "   261/272        8G      1.92     0.802      0.57       3.3        75       416:   9% 12/139 [01:11<13:35,  6.42s/it]"
          ],
          "name": "stdout"
        }
      ]
    },
    {
      "cell_type": "code",
      "metadata": {
        "id": "n1UgsGpFsNP9",
        "colab_type": "code",
        "outputId": "e7409b22-31e7-4175-d2d2-be432a3f89f8",
        "colab": {
          "base_uri": "https://localhost:8080/",
          "height": 204
        }
      },
      "source": [
        "! bash"
      ],
      "execution_count": 11,
      "outputs": [
        {
          "output_type": "stream",
          "text": [
            "bash: cannot set terminal process group (150): Inappropriate ioctl for device\n",
            "bash: no job control in this shell\n",
            "\u001b]0;root@b2065cab460b: /content/drive/My Drive/colab/yolov3/ultralytics\u0007\u001b[01;32mroot@b2065cab460b\u001b[00m:\u001b[01;34m/content/drive/My Drive/colab/yolov3/ultralytics\u001b[00m# cd /d/cdc\n",
            "\u001b]0;root@b2065cab460b: /d/cdc\u0007\u001b[01;32mroot@b2065cab460b\u001b[00m:\u001b[01;34m/d/cdc\u001b[00m# cd bu1\n",
            "\u001b]0;root@b2065cab460b: /d/cdc/bu1\u0007\u001b[01;32mroot@b2065cab460b\u001b[00m:\u001b[01;34m/d/cdc/bu1\u001b[00m# ls\n",
            "backup260.pt  backup270.pt  last.pt\n",
            "\u001b]0;root@b2065cab460b: /d/cdc/bu1\u0007\u001b[01;32mroot@b2065cab460b\u001b[00m:\u001b[01;34m/d/cdc/bu1\u001b[00m# rm backup270.pt\n",
            "\u001b]0;root@b2065cab460b: /d/cdc/bu1\u0007\u001b[01;32mroot@b2065cab460b\u001b[00m:\u001b[01;34m/d/cdc/bu1\u001b[00m# cp backup260.pt last.pt\n",
            "exit\n",
            "\u001b]0;root@b2065cab460b: /d/cdc/bu1\u0007\u001b[01;32mroot@b2065cab460b\u001b[00m:\u001b[01;34m/d/cdc/bu1\u001b[00m# exit\n",
            "exit\n"
          ],
          "name": "stdout"
        }
      ]
    },
    {
      "cell_type": "code",
      "metadata": {
        "id": "qA_H91qs7IFG",
        "colab_type": "code",
        "colab": {}
      },
      "source": [
        ""
      ],
      "execution_count": 0,
      "outputs": []
    }
  ]
}