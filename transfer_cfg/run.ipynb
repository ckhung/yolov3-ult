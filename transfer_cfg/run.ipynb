{
  "nbformat": 4,
  "nbformat_minor": 0,
  "metadata": {
    "colab": {
      "name": "u2.ipynb",
      "provenance": [],
      "collapsed_sections": []
    },
    "kernelspec": {
      "name": "python3",
      "display_name": "Python 3"
    },
    "accelerator": "GPU"
  },
  "cells": [
    {
      "cell_type": "code",
      "metadata": {
        "id": "rh3_99pj0fMQ",
        "colab_type": "code",
        "outputId": "05f789aa-fd1b-4fd3-9419-ee1b6ca4ebf6",
        "colab": {
          "base_uri": "https://localhost:8080/",
          "height": 122
        }
      },
      "source": [
        "from google.colab import drive\n",
        "drive.mount('/content/drive/', force_remount=True)\n"
      ],
      "execution_count": 1,
      "outputs": [
        {
          "output_type": "stream",
          "text": [
            "Go to this URL in a browser: https://accounts.google.com/o/oauth2/auth?client_id=947318989803-6bn6qk8qdgf4n4g3pfee6491hc0brc4i.apps.googleusercontent.com&redirect_uri=urn%3aietf%3awg%3aoauth%3a2.0%3aoob&response_type=code&scope=email%20https%3a%2f%2fwww.googleapis.com%2fauth%2fdocs.test%20https%3a%2f%2fwww.googleapis.com%2fauth%2fdrive%20https%3a%2f%2fwww.googleapis.com%2fauth%2fdrive.photos.readonly%20https%3a%2f%2fwww.googleapis.com%2fauth%2fpeopleapi.readonly\n",
            "\n",
            "Enter your authorization code:\n",
            "··········\n",
            "Mounted at /content/drive/\n"
          ],
          "name": "stdout"
        }
      ]
    },
    {
      "cell_type": "code",
      "metadata": {
        "id": "yPUjuAtVUXA_",
        "colab_type": "code",
        "outputId": "2d2ae9d9-8bd3-453c-ee37-2bfe5108ec62",
        "colab": {
          "base_uri": "https://localhost:8080/",
          "height": 119
        }
      },
      "source": [
        "! ln -sf '/content/drive/My Drive/colab/dataset' /d ; ls -ld /d\n",
        "! ln -sf '/content/drive/My Drive/colab/yolov3/ultralytics' /u ; ls -ld /u\n",
        "! ls -ld $(grep -Po '/.*' /d/cdc/config/u2.data)"
      ],
      "execution_count": 2,
      "outputs": [
        {
          "output_type": "stream",
          "text": [
            "lrwxrwxrwx 1 root root 37 Nov 17 07:13 /d -> '/content/drive/My Drive/colab/dataset'\n",
            "lrwxrwxrwx 1 root root 48 Nov 17 07:13 /u -> '/content/drive/My Drive/colab/yolov3/ultralytics'\n",
            "drwx------ 2 root root  4096 Nov 16 01:18 /d/cdc/bu2/\n",
            "-rw------- 1 root root   104 Nov 13 10:52 /d/cdc/config/classes.names\n",
            "-rw------- 1 root root 75771 Nov 12 10:10 /d/cdc/config/train.txt\n",
            "-rw------- 1 root root 15156 Nov 12 10:09 /d/cdc/config/valid.txt\n"
          ],
          "name": "stdout"
        }
      ]
    },
    {
      "cell_type": "code",
      "metadata": {
        "id": "KSConDAKVtav",
        "colab_type": "code",
        "colab": {}
      },
      "source": [
        "import os, time\n",
        "os.chdir('/u')\n",
        "os.environ['TZ'] = 'Asia/Taipei'\n",
        "time.tzset()\n"
      ],
      "execution_count": 0,
      "outputs": []
    },
    {
      "cell_type": "code",
      "metadata": {
        "id": "VopYco7cO_5q",
        "colab_type": "code",
        "outputId": "4e32b616-9ffe-407b-c81c-e7808afba0cd",
        "colab": {
          "base_uri": "https://localhost:8080/",
          "height": 156
        }
      },
      "source": [
        "! python3 detect.py"
      ],
      "execution_count": 4,
      "outputs": [
        {
          "output_type": "stream",
          "text": [
            "Namespace(cfg='cfg/yolov3-spp.cfg', conf_thres=0.3, data='data/coco.data', device='', fourcc='mp4v', half=False, img_size=416, nms_thres=0.5, output='output', source='data/samples', view_img=False, weights='weights/yolov3-spp.weights')\n",
            "Using CUDA device0 _CudaDeviceProperties(name='Tesla K80', total_memory=11441MB)\n",
            "\n",
            "image 1/2 data/samples/bus.jpg: 416x320 4 persons, 1 buss, 1 handbags, Done. (0.256s)\n",
            "image 2/2 data/samples/zidane.jpg: 256x416 2 persons, 1 ties, Done. (0.075s)\n",
            "Results saved to /content/drive/My Drive/colab/yolov3/ultralytics/output\n",
            "Done. (1.790s)\n"
          ],
          "name": "stdout"
        }
      ]
    },
    {
      "cell_type": "code",
      "metadata": {
        "id": "S3tjEBeCrwn_",
        "colab_type": "code",
        "outputId": "df5b4969-26ff-4446-d633-aadc159c2aa0",
        "colab": {
          "base_uri": "https://localhost:8080/",
          "height": 304
        }
      },
      "source": [
        "! date ; time python3 train.py --bkevery 10 --resume --transfer --batch-size 16 --data /d/cdc/config/u2.data ; date"
      ],
      "execution_count": 0,
      "outputs": [
        {
          "output_type": "stream",
          "text": [
            "Sun Nov 17 16:51:30 CST 2019\n",
            "Namespace(accumulate=2, adam=False, arc='default', batch_size=16, bkevery=10, bucket='', cache_images=False, cfg='cfg/yolov3-spp.cfg', data='/d/cdc/config/u2.data', device='', epochs=273, evolve=False, img_size=416, img_weights=False, multi_scale=False, name='', notest=False, prebias=False, rect=False, resume=True, transfer=True, var=None, weights='/d/cdc/bu2/last.pt')\n",
            "Using CUDA device0 _CudaDeviceProperties(name='Tesla K80', total_memory=11441MB)\n",
            "\n",
            "Reading labels (2217 found, 0 missing, 0 empty for 2217 images): 100% 2217/2217 [00:03<00:00, 717.91it/s]\n",
            "Model Summary: 225 layers, 6.29987e+07 parameters, 457725 gradients\n",
            "Starting training for 273 epochs...\n",
            "\n",
            "     Epoch   gpu_mem      GIoU       obj       cls     total   targets  img_size\n",
            "   245/272     2.13G      3.14      2.39      3.13      8.66        39       416: 100% 139/139 [02:04<00:00,  1.30it/s]\n",
            "               Class    Images   Targets         P         R   mAP@0.5        F1: 100% 28/28 [00:23<00:00,  1.33it/s]\n",
            "                 all       443  1.27e+03     0.219     0.268     0.161     0.226\n",
            "\n",
            "     Epoch   gpu_mem      GIoU       obj       cls     total   targets  img_size\n",
            "   246/272     2.49G      3.11       2.4      3.03      8.54        76       416:  10% 14/139 [00:13<01:55,  1.08it/s]"
          ],
          "name": "stdout"
        }
      ]
    },
    {
      "cell_type": "code",
      "metadata": {
        "id": "n1UgsGpFsNP9",
        "colab_type": "code",
        "outputId": "f4ec5184-a874-429b-a440-fb4e8b353ca5",
        "colab": {
          "base_uri": "https://localhost:8080/",
          "height": 867
        }
      },
      "source": [
        "! bash"
      ],
      "execution_count": 7,
      "outputs": [
        {
          "output_type": "stream",
          "text": [
            "bash: cannot set terminal process group (125): Inappropriate ioctl for device\n",
            "bash: no job control in this shell\n",
            "\u001b]0;root@cb1cf4f4d664: /content/drive/My Drive/colab/yolov3/ultralytics\u0007\u001b[01;32mroot@cb1cf4f4d664\u001b[00m:\u001b[01;34m/content/drive/My Drive/colab/yolov3/ultralytics\u001b[00m# ls backup\n",
            "ls: cannot access 'backup': No such file or directory\n",
            "\u001b]0;root@cb1cf4f4d664: /content/drive/My Drive/colab/yolov3/ultralytics\u0007\u001b[01;32mroot@cb1cf4f4d664\u001b[00m:\u001b[01;34m/content/drive/My Drive/colab/yolov3/ultralytics\u001b[00m# ls\n",
            " \u001b[0m\u001b[01;34mcfg\u001b[0m              LICENSE       requirements.txt   t1.py             \u001b[01;34mutils\u001b[0m\n",
            " \u001b[01;34mdata\u001b[0m             models.py    'results (1).txt'   t2.py             \u001b[01;34mweights\u001b[0m\n",
            " detect.py        \u001b[01;34moutput\u001b[0m        \u001b[01;35mresults.png\u001b[0m        \u001b[01;35mtest_batch0.jpg\u001b[0m\n",
            " Dockerfile       \u001b[01;34m__pycache__\u001b[0m   results.txt        test.py\n",
            " examples.ipynb   README.md     \u001b[01;34mruns\u001b[0m               train.py\n",
            "\u001b]0;root@cb1cf4f4d664: /content/drive/My Drive/colab/yolov3/ultralytics\u0007\u001b[01;32mroot@cb1cf4f4d664\u001b[00m:\u001b[01;34m/content/drive/My Drive/colab/yolov3/ultralytics\u001b[00m# ls data\n",
            "5k.shapes          coco_1img.data    coco.data\n",
            "5k.txt             coco_1img.txt     coco.names\n",
            "coco_1000img.data  coco_1k5k.data    coco_paper.names\n",
            "coco_1000img.txt   coco_32img.data   get_coco_dataset_gdrive.sh\n",
            "coco_1000val.data  coco_32img.txt    get_coco_dataset.sh\n",
            "coco_1000val.txt   coco_500img.txt   \u001b[0m\u001b[01;34msamples\u001b[0m\n",
            "coco_16img.data    coco_500val.data  trainvalno5k.shapes\n",
            "coco_16img.txt     coco_500val.txt   valid.shapes\n",
            "coco_1cls.data     coco_64img.data\n",
            "coco_1cls.txt      coco_64img.txt\n",
            "e '*.pt'\n",
            "./weights/backbone.pt\n",
            "./weights/yolov3-spp.pt\n",
            "./weights/backup30.pt\n",
            "./weights/backup40.pt\n",
            "./weights/backup50.pt\n",
            "./weights/backup60.pt\n",
            "./weights/backup10.pt\n",
            "./weights/best.pt\n",
            "./weights/backup20.pt\n",
            "./weights/backup15.pt\n",
            "./weights/last.pt\n",
            "\u001b]0;root@cb1cf4f4d664: /content/drive/My Drive/colab/yolov3/ultralytics\u0007\u001b[01;32mroot@cb1cf4f4d664\u001b[00m:\u001b[01;34m/content/drive/My Drive/colab/yolov3/ultralytics\u001b[00m# cd weights\n",
            "ackup15.pt\n",
            "ackup[134]0.pt\n",
            "l *.pt\n",
            "-rw------- 1 root root 252298407 Nov 13 21:23 backbone.pt\n",
            "-rw------- 1 root root 501448476 Nov 17 15:55 backup20.pt\n",
            "-rw------- 1 root root 254140077 Nov 14 00:03 backup50.pt\n",
            "-rw------- 1 root root 254141587 Nov 14 00:27 backup60.pt\n",
            "-rw------- 1 root root 501446200 Nov 14 21:33 best.pt\n",
            "-rw------- 1 root root 501451647 Nov 17 16:47 last.pt\n",
            "-rw------- 1 root root 252297587 Nov 13 22:02 yolov3-spp.pt\n",
            "ackup20.pt\n",
            ".\n",
            "\u001b]0;root@cb1cf4f4d664: /content/drive/My Drive/colab/yolov3/ultralytics\u0007\u001b[01;32mroot@cb1cf4f4d664\u001b[00m:\u001b[01;34m/content/drive/My Drive/colab/yolov3/ultralytics\u001b[00m# rm t1.py\n",
            "in.py\n",
            "\u001b]0;root@cb1cf4f4d664: /content/drive/My Drive/colab/yolov3/ultralytics\u0007\u001b[01;32mroot@cb1cf4f4d664\u001b[00m:\u001b[01;34m/content/drive/My Drive/colab/yolov3/ultralytics\u001b[00m# exit\n",
            "exit\n"
          ],
          "name": "stdout"
        }
      ]
    },
    {
      "cell_type": "code",
      "metadata": {
        "id": "qA_H91qs7IFG",
        "colab_type": "code",
        "colab": {}
      },
      "source": [
        ""
      ],
      "execution_count": 0,
      "outputs": []
    }
  ]
}