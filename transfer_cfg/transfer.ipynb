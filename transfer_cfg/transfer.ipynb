{
  "nbformat": 4,
  "nbformat_minor": 0,
  "metadata": {
    "colab": {
      "name": "transfer.ipynb",
      "provenance": [],
      "collapsed_sections": []
    },
    "kernelspec": {
      "name": "python3",
      "display_name": "Python 3"
    },
    "accelerator": "GPU"
  },
  "cells": [
    {
      "cell_type": "code",
      "metadata": {
        "id": "rh3_99pj0fMQ",
        "colab_type": "code",
        "outputId": "834a42bb-7acd-41f3-8606-5d5d42703e8f",
        "colab": {
          "base_uri": "https://localhost:8080/",
          "height": 34
        }
      },
      "source": [
        "from google.colab import drive\n",
        "drive.mount('/content/drive/', force_remount=True)\n"
      ],
      "execution_count": 4,
      "outputs": [
        {
          "output_type": "stream",
          "text": [
            "Mounted at /content/drive/\n"
          ],
          "name": "stdout"
        }
      ]
    },
    {
      "cell_type": "code",
      "metadata": {
        "id": "EpPnkiunVZLl",
        "colab_type": "code",
        "colab": {
          "base_uri": "https://localhost:8080/",
          "height": 153
        },
        "outputId": "dcfff8ad-4a94-4263-9d1c-8aa045a3d10e"
      },
      "source": [
        "! bash"
      ],
      "execution_count": 10,
      "outputs": [
        {
          "output_type": "stream",
          "text": [
            "bash: cannot set terminal process group (124): Inappropriate ioctl for device\n",
            "bash: no job control in this shell\n",
            "\u001b]0;root@10253062b38e: /content\u0007\u001b[01;32mroot@10253062b38e\u001b[00m:\u001b[01;34m/content\u001b[00m# ls /d/\n",
            "\u001b[0m\u001b[01;34mbu-from0\u001b[0m  \u001b[01;34mbu-transfer\u001b[0m  \u001b[01;34mconfig\u001b[0m  \u001b[01;34mtrain\u001b[0m  \u001b[01;34mvalid\u001b[0m\n",
            "\u001b]0;root@10253062b38e: /content\u0007\u001b[01;32mroot@10253062b38e\u001b[00m:\u001b[01;34m/content\u001b[00m# ls /d\n",
            "\u001b[0m\u001b[01;34mbu-from0\u001b[0m  \u001b[01;34mbu-transfer\u001b[0m  \u001b[01;34mconfig\u001b[0m  \u001b[01;34mtrain\u001b[0m  \u001b[01;34mvalid\u001b[0m\n",
            "\u001b]0;root@10253062b38e: /content\u0007\u001b[01;32mroot@10253062b38e\u001b[00m:\u001b[01;34m/content\u001b[00m# exit\n",
            "exit\n"
          ],
          "name": "stdout"
        }
      ]
    },
    {
      "cell_type": "code",
      "metadata": {
        "id": "yPUjuAtVUXA_",
        "colab_type": "code",
        "outputId": "47599e47-3516-42a4-82b0-de03dc257138",
        "colab": {
          "base_uri": "https://localhost:8080/",
          "height": 136
        }
      },
      "source": [
        "! rm -f /d ; ln -s '/content/drive/My Drive/colab/dataset/cdc' /d ; ls -ld /d\n",
        "! rm -f /c ; ln -s '/content/drive/My Drive/colab/yolov3-ult' /c ; ls -ld /c\n",
        "! rm -f /i ; ln -s '/content/drive/My Drive/colab/img' /i ; ls -ld /i\n",
        "! ls -ld $(grep -Po '/.*' /c/transfer_cfg/transfer-data.txt)"
      ],
      "execution_count": 11,
      "outputs": [
        {
          "output_type": "stream",
          "text": [
            "lrwxrwxrwx 1 root root 41 Dec 11 14:31 /d -> '/content/drive/My Drive/colab/dataset/cdc'\n",
            "lrwxrwxrwx 1 root root 40 Dec 11 14:31 /c -> '/content/drive/My Drive/colab/yolov3-ult'\n",
            "lrwxrwxrwx 1 root root 33 Dec 11 14:31 /i -> '/content/drive/My Drive/colab/img'\n",
            "-rw------- 1 root root   104 Dec 11 14:28 /c/transfer_cfg/classes.txt\n",
            "-rw------- 1 root root 75771 Nov 28 02:41 /c/transfer_cfg/train.txt\n",
            "-rw------- 1 root root 15156 Nov 28 02:41 /c/transfer_cfg/valid.txt\n",
            "drwx------ 2 root root  4096 Nov 28 05:55 /d/bu-transfer/\n"
          ],
          "name": "stdout"
        }
      ]
    },
    {
      "cell_type": "code",
      "metadata": {
        "id": "KSConDAKVtav",
        "colab_type": "code",
        "colab": {}
      },
      "source": [
        "import os, time\n",
        "os.chdir('/c')\n",
        "os.environ['TZ'] = 'Asia/Taipei'\n",
        "time.tzset()\n"
      ],
      "execution_count": 0,
      "outputs": []
    },
    {
      "cell_type": "code",
      "metadata": {
        "id": "onzaL_A7Drv-",
        "colab_type": "code",
        "outputId": "0dd714da-8917-4e62-b505-f7b54a1846d7",
        "colab": {
          "base_uri": "https://localhost:8080/",
          "height": 425
        }
      },
      "source": [
        "! python3 detect.py -h"
      ],
      "execution_count": 14,
      "outputs": [
        {
          "output_type": "stream",
          "text": [
            "usage: detect.py [-h] [--cfg CFG] [--data DATA] [--weights WEIGHTS]\n",
            "                 [--source SOURCE] [--output OUTPUT] [--img-size IMG_SIZE]\n",
            "                 [--conf-thres CONF_THRES] [--nms-thres NMS_THRES]\n",
            "                 [--fourcc FOURCC] [--half] [--device DEVICE] [--view-img]\n",
            "\n",
            "optional arguments:\n",
            "  -h, --help            show this help message and exit\n",
            "  --cfg CFG             cfg file path (default: cfg/yolov3-spp.cfg)\n",
            "  --data DATA           coco.data file path (default: data/coco.data)\n",
            "  --weights WEIGHTS     path to weights file (default:\n",
            "                        weights/yolov3-spp.weights)\n",
            "  --source SOURCE       source (default: data/samples)\n",
            "  --output OUTPUT       output folder (default: output)\n",
            "  --img-size IMG_SIZE   inference size (pixels) (default: 416)\n",
            "  --conf-thres CONF_THRES\n",
            "                        object confidence threshold (default: 0.3)\n",
            "  --nms-thres NMS_THRES\n",
            "                        iou threshold for non-maximum suppression (default:\n",
            "                        0.5)\n",
            "  --fourcc FOURCC       output video codec (verify ffmpeg support) (default:\n",
            "                        mp4v)\n",
            "  --half                half precision FP16 inference (default: False)\n",
            "  --device DEVICE       device id (i.e. 0 or 0,1) or cpu (default: )\n",
            "  --view-img            display results (default: False)\n"
          ],
          "name": "stdout"
        }
      ]
    },
    {
      "cell_type": "code",
      "metadata": {
        "id": "VopYco7cO_5q",
        "colab_type": "code",
        "outputId": "85a2f0ce-e6b4-4681-b445-0563931e799c",
        "colab": {
          "base_uri": "https://localhost:8080/",
          "height": 207
        }
      },
      "source": [
        "! python3 detect.py --cfg cfg/yolov3-spp.cfg --weights weights/yolov3-spp.weights --source /i"
      ],
      "execution_count": 19,
      "outputs": [
        {
          "output_type": "stream",
          "text": [
            "Namespace(cfg='cfg/yolov3-spp.cfg', conf_thres=0.3, data='data/coco.data', device='', fourcc='mp4v', half=False, img_size=416, nms_thres=0.5, output='output', source='/i', view_img=False, weights='weights/yolov3-spp.weights')\n",
            "Using CUDA device0 _CudaDeviceProperties(name='Tesla K80', total_memory=11441MB)\n",
            "\n",
            "image 1/5 /i/bike.jpg: 288x416 Done. (0.080s)\n",
            "image 2/5 /i/obama-park.jpg: 256x416 Done. (0.067s)\n",
            "image 3/5 /i/ped-xing.jpg: 224x416 Done. (0.064s)\n",
            "image 4/5 /i/rainbow-waterfall.jpg: 288x416 Done. (0.065s)\n",
            "image 5/5 /i/zebra-gazelle.jpg: 192x416 Done. (0.050s)\n",
            "Results saved to /content/drive/My Drive/colab/yolov3-ult/output\n",
            "Done. (0.525s)\n"
          ],
          "name": "stdout"
        }
      ]
    },
    {
      "cell_type": "code",
      "metadata": {
        "id": "S3tjEBeCrwn_",
        "colab_type": "code",
        "outputId": "dbf79bbb-ecfc-44a4-d30b-a4fa0d3ac154",
        "colab": {
          "base_uri": "https://localhost:8080/",
          "height": 134
        }
      },
      "source": [
        "! date ; time python3 train.py --bkevery 10 --resume --transfer --batch-size 16 --data transfer_cfg/transfer-data.txt ; date"
      ],
      "execution_count": 0,
      "outputs": [
        {
          "output_type": "stream",
          "text": [
            "Wed Dec 11 22:43:32 CST 2019\n",
            "Namespace(accumulate=2, adam=False, arc='default', batch_size=16, bkevery=10, bucket='', cache_images=False, cfg='cfg/yolov3-spp.cfg', data='transfer_cfg/transfer-data.txt', device='', epochs=273, evolve=False, img_size=416, img_weights=False, multi_scale=False, name='', notest=False, prebias=False, rect=False, resume=True, transfer=True, var=None, weights='/d/bu-transfer/last.pt')\n",
            "Using CUDA device0 _CudaDeviceProperties(name='Tesla K80', total_memory=11441MB)\n",
            "\n",
            "Reading labels (175 found, 0 missing, 0 empty for 2217 images):   8% 175/2217 [02:04<28:19,  1.20it/s]"
          ],
          "name": "stdout"
        }
      ]
    },
    {
      "cell_type": "code",
      "metadata": {
        "id": "n1UgsGpFsNP9",
        "colab_type": "code",
        "outputId": "cdc47dc1-2202-4c01-b95e-241b322344c5",
        "colab": {
          "base_uri": "https://localhost:8080/",
          "height": 510
        }
      },
      "source": [
        "! bash"
      ],
      "execution_count": 0,
      "outputs": [
        {
          "output_type": "stream",
          "text": [
            "bash: cannot set terminal process group (128): Inappropriate ioctl for device\n",
            "bash: no job control in this shell\n",
            "\u001b]0;root@f03e40a32cab: /content/drive/My Drive/colab/yolov3/yolov3-ult\u0007\u001b[01;32mroot@f03e40a32cab\u001b[00m:\u001b[01;34m/content/drive/My Drive/colab/yolov3/yolov3-ult\u001b[00m# cd /d\n",
            "\u001b]0;root@f03e40a32cab: /d\u0007\u001b[01;32mroot@f03e40a32cab\u001b[00m:\u001b[01;34m/d\u001b[00m# ls\n",
            "\u001b[0m\u001b[01;34mcdc\u001b[0m  \u001b[01;31mtest_cdc.zip\u001b[0m  \u001b[01;31mtrain_cdc.zip\u001b[0m\n",
            "\u001b]0;root@f03e40a32cab: /d\u0007\u001b[01;32mroot@f03e40a32cab\u001b[00m:\u001b[01;34m/d\u001b[00m# cd cdc\n",
            "\u001b]0;root@f03e40a32cab: /d/cdc\u0007\u001b[01;32mroot@f03e40a32cab\u001b[00m:\u001b[01;34m/d/cdc\u001b[00m# ls\n",
            "\u001b[0m\u001b[01;34mbu-from0\u001b[0m  \u001b[01;34mbu-transfer\u001b[0m  \u001b[01;34mconfig\u001b[0m  \u001b[01;34mtrain\u001b[0m  \u001b[01;34mvalid\u001b[0m\n",
            "\u001b]0;root@f03e40a32cab: /d/cdc\u0007\u001b[01;32mroot@f03e40a32cab\u001b[00m:\u001b[01;34m/d/cdc\u001b[00m# cd bu-transfer\n",
            "\u001b]0;root@f03e40a32cab: /d/cdc/bu-transfer\u0007\u001b[01;32mroot@f03e40a32cab\u001b[00m:\u001b[01;34m/d/cdc/bu-transfer\u001b[00m# ls\n",
            "backup260.pt  backup270.pt  last.pt\n",
            "\u001b]0;root@f03e40a32cab: /d/cdc/bu-transfer\u0007\u001b[01;32mroot@f03e40a32cab\u001b[00m:\u001b[01;34m/d/cdc/bu-transfer\u001b[00m# ls -l\n",
            "total 1224446\n",
            "-rw------- 1 root root 501453762 Nov 16 13:46 backup260.pt\n",
            "-rw------- 1 root root 501482758 Nov 17 17:58 backup270.pt\n",
            "-rw------- 1 root root 250895665 Nov 17 18:02 last.pt\n",
            "\u001b]0;root@f03e40a32cab: /d/cdc/bu-transfer\u0007\u001b[01;32mroot@f03e40a32cab\u001b[00m:\u001b[01;34m/d/cdc/bu-transfer\u001b[00m# rm backup270.pt\n",
            "\u001b]0;root@f03e40a32cab: /d/cdc/bu-transfer\u0007\u001b[01;32mroot@f03e40a32cab\u001b[00m:\u001b[01;34m/d/cdc/bu-transfer\u001b[00m# cp backup260.pt last.pt\n",
            "\u001b]0;root@f03e40a32cab: /d/cdc/bu-transfer\u0007\u001b[01;32mroot@f03e40a32cab\u001b[00m:\u001b[01;34m/d/cdc/bu-transfer\u001b[00m# ls -l\n",
            "total 979402\n",
            "-rw------- 1 root root 501453762 Nov 16 13:46 backup260.pt\n",
            "-rw------- 1 root root 501453762 Nov 25 15:29 last.pt\n",
            "\u001b]0;root@f03e40a32cab: /d/cdc/bu-transfer\u0007\u001b[01;32mroot@f03e40a32cab\u001b[00m:\u001b[01;34m/d/cdc/bu-transfer\u001b[00m# mkdir tmp\n",
            "\u001b]0;root@f03e40a32cab: /d/cdc/bu-transfer\u0007\u001b[01;32mroot@f03e40a32cab\u001b[00m:\u001b[01;34m/d/cdc/bu-transfer\u001b[00m# mv *.pt tmp/\n",
            "\u001b]0;root@f03e40a32cab: /d/cdc/bu-transfer\u0007\u001b[01;32mroot@f03e40a32cab\u001b[00m:\u001b[01;34m/d/cdc/bu-transfer\u001b[00m# ls -l\n",
            "total 4\n",
            "drwx------ 2 root root 4096 Nov 25 15:29 \u001b[0m\u001b[01;34mtmp\u001b[0m\n",
            "\u001b]0;root@f03e40a32cab: /d/cdc/bu-transfer\u0007\u001b[01;32mroot@f03e40a32cab\u001b[00m:\u001b[01;34m/d/cdc/bu-transfer\u001b[00m# exit\n",
            "exit\n"
          ],
          "name": "stdout"
        }
      ]
    },
    {
      "cell_type": "code",
      "metadata": {
        "id": "qA_H91qs7IFG",
        "colab_type": "code",
        "colab": {}
      },
      "source": [
        ""
      ],
      "execution_count": 0,
      "outputs": []
    }
  ]
}