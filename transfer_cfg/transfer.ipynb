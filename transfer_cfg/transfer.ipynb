{
  "nbformat": 4,
  "nbformat_minor": 0,
  "metadata": {
    "colab": {
      "name": "transfer.ipynb",
      "provenance": [],
      "collapsed_sections": []
    },
    "kernelspec": {
      "name": "python3",
      "display_name": "Python 3"
    },
    "accelerator": "GPU"
  },
  "cells": [
    {
      "cell_type": "code",
      "metadata": {
        "id": "rh3_99pj0fMQ",
        "colab_type": "code",
        "outputId": "23b27b88-f0ff-4379-b5fb-57da450341d2",
        "colab": {
          "base_uri": "https://localhost:8080/",
          "height": 34
        }
      },
      "source": [
        "from google.colab import drive\n",
        "drive.mount('/content/drive/', force_remount=True)\n"
      ],
      "execution_count": 1,
      "outputs": [
        {
          "output_type": "stream",
          "text": [
            "Mounted at /content/drive/\n"
          ],
          "name": "stdout"
        }
      ]
    },
    {
      "cell_type": "code",
      "metadata": {
        "id": "n8oyJIJXfF0k",
        "colab_type": "code",
        "outputId": "d6506887-1e14-47d0-dc9b-1d4bc43ecb3c",
        "colab": {
          "base_uri": "https://localhost:8080/",
          "height": 119
        }
      },
      "source": [
        "! bash"
      ],
      "execution_count": 2,
      "outputs": [
        {
          "output_type": "stream",
          "text": [
            "bash: cannot set terminal process group (1416): Inappropriate ioctl for device\n",
            "bash: no job control in this shell\n",
            "\u001b]0;root@bda7134d6d04: /content\u0007\u001b[01;32mroot@bda7134d6d04\u001b[00m:\u001b[01;34m/content\u001b[00m# pwd\n",
            "/content\n",
            "\u001b]0;root@bda7134d6d04: /content\u0007\u001b[01;32mroot@bda7134d6d04\u001b[00m:\u001b[01;34m/content\u001b[00m# exit\n",
            "exit\n"
          ],
          "name": "stdout"
        }
      ]
    },
    {
      "cell_type": "code",
      "metadata": {
        "id": "yPUjuAtVUXA_",
        "colab_type": "code",
        "outputId": "942d2849-0736-4d2f-acd0-9cd55d389864",
        "colab": {
          "base_uri": "https://localhost:8080/",
          "height": 85
        }
      },
      "source": [
        "! rm -f /d ; ln -s '/content/drive/My Drive/colab/dataset' /d ; ls -ld /d\n",
        "! rm -f /u ; ln -s '/content/drive/My Drive/colab/yolov3/yolov3-ult' /u ; ls -ld /u\n",
        "! ls -ld $(grep -Po '/.*' /d/cdc/config/u2.data)"
      ],
      "execution_count": 3,
      "outputs": [
        {
          "output_type": "stream",
          "text": [
            "lrwxrwxrwx 1 root root 37 Nov 24 14:20 /d -> '/content/drive/My Drive/colab/dataset'\n",
            "lrwxrwxrwx 1 root root 47 Nov 24 14:20 /u -> '/content/drive/My Drive/colab/yolov3/yolov3-ult'\n",
            "grep: /d/cdc/config/u2.data: No such file or directory\n",
            "drwxr-xr-x 1 root root 4096 Nov 24 14:20 .\n"
          ],
          "name": "stdout"
        }
      ]
    },
    {
      "cell_type": "code",
      "metadata": {
        "id": "KSConDAKVtav",
        "colab_type": "code",
        "colab": {}
      },
      "source": [
        "import os, time\n",
        "os.chdir('/u')\n",
        "os.environ['TZ'] = 'Asia/Taipei'\n",
        "time.tzset()\n"
      ],
      "execution_count": 0,
      "outputs": []
    },
    {
      "cell_type": "code",
      "metadata": {
        "id": "VopYco7cO_5q",
        "colab_type": "code",
        "outputId": "c594efd9-b4ab-44f9-d7cc-09a64e1f1bbb",
        "colab": {
          "base_uri": "https://localhost:8080/",
          "height": 241
        }
      },
      "source": [
        "! python3 detect.py --cfg cfg/yolov3-spp.cfg --weights weights/yolov3-spp.weights"
      ],
      "execution_count": 6,
      "outputs": [
        {
          "output_type": "stream",
          "text": [
            "Namespace(cfg='cfg/yolov3-spp.cfg', conf_thres=0.3, data='data/coco.data', device='', fourcc='mp4v', half=False, img_size=416, nms_thres=0.5, output='output', source='data/samples', view_img=False, weights='weights/yolov3-spp.weights')\n",
            "Using CUDA device0 _CudaDeviceProperties(name='Tesla P100-PCIE-16GB', total_memory=16280MB)\n",
            "\n",
            "image 1/7 data/samples/bike.jpg: 288x416 8 persons, 4 bicycles, 2 cars, 1 stop signs, 3 backpacks, 1 suitcases, Done. (0.045s)\n",
            "image 2/7 data/samples/bus.jpg: 416x320 4 persons, 1 buss, 1 handbags, Done. (0.026s)\n",
            "image 3/7 data/samples/obama-park.jpg: 256x416 3 persons, 1 cups, Done. (0.023s)\n",
            "image 4/7 data/samples/ped-xing.jpg: 224x416 2 persons, 5 cars, 1 trucks, 1 sports balls, Done. (0.024s)\n",
            "image 5/7 data/samples/rainbow-waterfall.jpg: 288x416 Done. (0.017s)\n",
            "image 6/7 data/samples/zebra-gazelle.jpg: 192x416 2 zebras, Done. (0.020s)\n",
            "image 7/7 data/samples/zidane.jpg: 256x416 2 persons, 1 ties, Done. (0.023s)\n",
            "Results saved to /content/drive/My Drive/colab/yolov3/yolov3-ult/output\n",
            "Done. (0.414s)\n"
          ],
          "name": "stdout"
        }
      ]
    },
    {
      "cell_type": "code",
      "metadata": {
        "id": "S3tjEBeCrwn_",
        "colab_type": "code",
        "outputId": "455d66df-3dd4-493b-fa1c-4693809f1494",
        "colab": {
          "base_uri": "https://localhost:8080/",
          "height": 1000
        }
      },
      "source": [
        "! date ; time python3 train.py --bkevery 10 --resume --transfer --batch-size 16 --data /u/transfer.data ; date"
      ],
      "execution_count": 0,
      "outputs": [
        {
          "output_type": "stream",
          "text": [
            "Sun Nov 17 17:46:24 CST 2019\n",
            "Namespace(accumulate=2, adam=False, arc='default', batch_size=16, bkevery=10, bucket='', cache_images=False, cfg='cfg/yolov3-spp.cfg', data='/d/cdc/config/transfer.data', device='', epochs=273, evolve=False, img_size=416, img_weights=False, multi_scale=False, name='', notest=False, prebias=False, rect=False, resume=True, transfer=True, var=None, weights='/d/cdc/bu2/last.pt')\n",
            "Using CUDA device0 _CudaDeviceProperties(name='Tesla K80', total_memory=11441MB)\n",
            "\n",
            "Reading labels (2217 found, 0 missing, 0 empty for 2217 images): 100% 2217/2217 [00:03<00:00, 718.18it/s]\n",
            "Model Summary: 225 layers, 6.29987e+07 parameters, 457725 gradients\n",
            "Starting training for 273 epochs...\n",
            "\n",
            "     Epoch   gpu_mem      GIoU       obj       cls     total   targets  img_size\n",
            "   251/272     2.13G      3.12      2.39      3.12      8.62        39       416: 100% 139/139 [02:04<00:00,  1.31it/s]\n",
            "               Class    Images   Targets         P         R   mAP@0.5        F1: 100% 28/28 [00:22<00:00,  1.33it/s]\n",
            "                 all       443  1.27e+03     0.224     0.267      0.16     0.228\n",
            "\n",
            "     Epoch   gpu_mem      GIoU       obj       cls     total   targets  img_size\n",
            "   252/272     2.49G      3.06      2.37         3      8.43        42       416: 100% 139/139 [02:04<00:00,  1.31it/s]\n",
            "               Class    Images   Targets         P         R   mAP@0.5        F1: 100% 28/28 [00:22<00:00,  1.33it/s]\n",
            "                 all       443  1.27e+03     0.241      0.27     0.164     0.236\n",
            "\n",
            "     Epoch   gpu_mem      GIoU       obj       cls     total   targets  img_size\n",
            "   253/272     2.49G      2.99      2.33      3.07      8.39        43       416: 100% 139/139 [02:04<00:00,  1.31it/s]\n",
            "               Class    Images   Targets         P         R   mAP@0.5        F1: 100% 28/28 [00:22<00:00,  1.33it/s]\n",
            "                 all       443  1.27e+03      0.27      0.27     0.169     0.237\n",
            "\n",
            "     Epoch   gpu_mem      GIoU       obj       cls     total   targets  img_size\n",
            "   254/272     2.49G      2.95       2.4       3.1      8.44        48       416: 100% 139/139 [02:04<00:00,  1.30it/s]\n",
            "               Class    Images   Targets         P         R   mAP@0.5        F1: 100% 28/28 [00:22<00:00,  1.31it/s]\n",
            "                 all       443  1.27e+03     0.232     0.271      0.17     0.233\n",
            "\n",
            "     Epoch   gpu_mem      GIoU       obj       cls     total   targets  img_size\n",
            "   255/272     2.49G      2.97      2.44      3.11      8.52        38       416: 100% 139/139 [02:04<00:00,  1.30it/s]\n",
            "               Class    Images   Targets         P         R   mAP@0.5        F1: 100% 28/28 [00:22<00:00,  1.35it/s]\n",
            "                 all       443  1.27e+03     0.274     0.268     0.168     0.238\n",
            "\n",
            "     Epoch   gpu_mem      GIoU       obj       cls     total   targets  img_size\n",
            "   256/272     2.49G       2.9      2.38       3.1      8.39        47       416: 100% 139/139 [02:04<00:00,  1.31it/s]\n",
            "               Class    Images   Targets         P         R   mAP@0.5        F1: 100% 28/28 [00:22<00:00,  1.33it/s]\n",
            "                 all       443  1.27e+03     0.228     0.272     0.165     0.234\n",
            "\n",
            "     Epoch   gpu_mem      GIoU       obj       cls     total   targets  img_size\n",
            "   257/272     2.49G      2.89      2.35      3.05      8.29        51       416: 100% 139/139 [02:04<00:00,  1.30it/s]\n",
            "               Class    Images   Targets         P         R   mAP@0.5        F1: 100% 28/28 [00:22<00:00,  1.33it/s]\n",
            "                 all       443  1.27e+03     0.236     0.268     0.162     0.234\n",
            "\n",
            "     Epoch   gpu_mem      GIoU       obj       cls     total   targets  img_size\n",
            "   258/272     2.49G      2.91      2.36      3.07      8.34        35       416: 100% 139/139 [02:04<00:00,  1.30it/s]\n",
            "               Class    Images   Targets         P         R   mAP@0.5        F1: 100% 28/28 [00:22<00:00,  1.34it/s]\n",
            "                 all       443  1.27e+03     0.235      0.27      0.17     0.235\n",
            "\n",
            "     Epoch   gpu_mem      GIoU       obj       cls     total   targets  img_size\n",
            "   259/272     2.49G       2.9      2.43      3.11      8.45        46       416: 100% 139/139 [02:04<00:00,  1.31it/s]\n",
            "               Class    Images   Targets         P         R   mAP@0.5        F1: 100% 28/28 [00:22<00:00,  1.34it/s]\n",
            "                 all       443  1.27e+03     0.229     0.269     0.163     0.233\n",
            "\n",
            "     Epoch   gpu_mem      GIoU       obj       cls     total   targets  img_size\n",
            "   260/272     2.49G      2.91      2.41      3.07      8.39        35       416: 100% 139/139 [02:03<00:00,  1.31it/s]\n",
            "               Class    Images   Targets         P         R   mAP@0.5        F1: 100% 28/28 [00:22<00:00,  1.35it/s]\n",
            "                 all       443  1.27e+03     0.278     0.272     0.171     0.241\n",
            "\n",
            "     Epoch   gpu_mem      GIoU       obj       cls     total   targets  img_size\n",
            "   261/272     2.49G       2.9       2.4      3.06      8.37        54       416: 100% 139/139 [02:04<00:00,  1.32it/s]\n",
            "               Class    Images   Targets         P         R   mAP@0.5        F1: 100% 28/28 [00:22<00:00,  1.35it/s]\n",
            "                 all       443  1.27e+03     0.276     0.269     0.169      0.24\n",
            "\n",
            "     Epoch   gpu_mem      GIoU       obj       cls     total   targets  img_size\n",
            "   262/272     2.49G      2.86      2.38      3.05      8.29        43       416: 100% 139/139 [02:03<00:00,  1.32it/s]\n",
            "               Class    Images   Targets         P         R   mAP@0.5        F1: 100% 28/28 [00:22<00:00,  1.35it/s]\n",
            "                 all       443  1.27e+03     0.238     0.266     0.167     0.234\n",
            "\n",
            "     Epoch   gpu_mem      GIoU       obj       cls     total   targets  img_size\n",
            "   263/272     2.49G      2.89       2.4      3.08      8.36        53       416: 100% 139/139 [02:03<00:00,  1.32it/s]\n",
            "               Class    Images   Targets         P         R   mAP@0.5        F1: 100% 28/28 [00:22<00:00,  1.36it/s]\n",
            "                 all       443  1.27e+03     0.264     0.271     0.169     0.241\n",
            "\n",
            "     Epoch   gpu_mem      GIoU       obj       cls     total   targets  img_size\n",
            "   264/272     2.49G      2.88      2.38      3.08      8.34        32       416: 100% 139/139 [02:03<00:00,  1.31it/s]\n",
            "               Class    Images   Targets         P         R   mAP@0.5        F1: 100% 28/28 [00:22<00:00,  1.34it/s]\n",
            "                 all       443  1.27e+03     0.231     0.269     0.168     0.234\n",
            "\n",
            "     Epoch   gpu_mem      GIoU       obj       cls     total   targets  img_size\n",
            "   265/272     2.49G      2.88      2.41      3.06      8.35        39       416: 100% 139/139 [02:03<00:00,  1.32it/s]\n",
            "               Class    Images   Targets         P         R   mAP@0.5        F1: 100% 28/28 [00:22<00:00,  1.34it/s]\n",
            "                 all       443  1.27e+03      0.24     0.271     0.164     0.237\n",
            "\n",
            "     Epoch   gpu_mem      GIoU       obj       cls     total   targets  img_size\n",
            "   266/272     2.49G      2.87      2.41      3.04      8.31        22       416: 100% 139/139 [02:03<00:00,  1.32it/s]\n",
            "               Class    Images   Targets         P         R   mAP@0.5        F1: 100% 28/28 [00:22<00:00,  1.35it/s]\n",
            "                 all       443  1.27e+03     0.237     0.267     0.163     0.234\n",
            "\n",
            "     Epoch   gpu_mem      GIoU       obj       cls     total   targets  img_size\n",
            "   267/272     2.49G       2.9      2.43      3.07      8.39        24       416: 100% 139/139 [02:03<00:00,  1.31it/s]\n",
            "               Class    Images   Targets         P         R   mAP@0.5        F1: 100% 28/28 [00:22<00:00,  1.33it/s]\n",
            "                 all       443  1.27e+03     0.231     0.271     0.164     0.233\n",
            "\n",
            "     Epoch   gpu_mem      GIoU       obj       cls     total   targets  img_size\n",
            "   268/272     2.49G      2.87      2.37      3.06       8.3        26       416: 100% 139/139 [02:04<00:00,  1.31it/s]\n",
            "               Class    Images   Targets         P         R   mAP@0.5        F1: 100% 28/28 [00:22<00:00,  1.33it/s]\n",
            "                 all       443  1.27e+03     0.233     0.266     0.163     0.231\n",
            "\n",
            "     Epoch   gpu_mem      GIoU       obj       cls     total   targets  img_size\n",
            "   269/272     2.49G      2.87      2.43      3.05      8.35        65       416: 100% 139/139 [02:04<00:00,  1.31it/s]\n",
            "               Class    Images   Targets         P         R   mAP@0.5        F1: 100% 28/28 [00:22<00:00,  1.33it/s]\n",
            "                 all       443  1.27e+03     0.238     0.268     0.164     0.235\n",
            "\n",
            "     Epoch   gpu_mem      GIoU       obj       cls     total   targets  img_size\n",
            "   270/272     2.49G      2.89      2.38      3.06      8.33        43       416: 100% 139/139 [02:04<00:00,  1.31it/s]\n",
            "               Class    Images   Targets         P         R   mAP@0.5        F1: 100% 28/28 [00:22<00:00,  1.33it/s]\n",
            "                 all       443  1.27e+03     0.237     0.269     0.164     0.236\n",
            "\n",
            "     Epoch   gpu_mem      GIoU       obj       cls     total   targets  img_size\n",
            "   271/272     2.49G      2.88      2.44      3.06      8.37        54       416: 100% 139/139 [02:04<00:00,  1.31it/s]\n",
            "               Class    Images   Targets         P         R   mAP@0.5        F1: 100% 28/28 [00:22<00:00,  1.33it/s]\n",
            "                 all       443  1.27e+03      0.26      0.27     0.162     0.241\n",
            "\n",
            "     Epoch   gpu_mem      GIoU       obj       cls     total   targets  img_size\n",
            "   272/272     2.49G      2.89      2.42      3.06      8.37        49       416: 100% 139/139 [02:04<00:00,  1.31it/s]\n",
            "               Class    Images   Targets         P         R   mAP@0.5        F1: 100% 28/28 [01:10<00:00,  2.35s/it]\n",
            "                 all       443  1.27e+03    0.0205     0.512     0.202    0.0388\n",
            "22 epochs completed in 0.916 hours.\n",
            "\n",
            "\n",
            "real\t55m9.296s\n",
            "user\t58m8.555s\n",
            "sys\t20m26.342s\n",
            "Sun Nov 17 18:41:33 CST 2019\n"
          ],
          "name": "stdout"
        }
      ]
    },
    {
      "cell_type": "code",
      "metadata": {
        "id": "n1UgsGpFsNP9",
        "colab_type": "code",
        "outputId": "84def767-9f52-4985-a6d0-8127fc22365a",
        "colab": {
          "base_uri": "https://localhost:8080/",
          "height": 92
        }
      },
      "source": [
        "! bash"
      ],
      "execution_count": 0,
      "outputs": [
        {
          "output_type": "stream",
          "text": [
            "bash: cannot set terminal process group (125): Inappropriate ioctl for device\n",
            "bash: no job control in this shell\n",
            "\u001b]0;root@f64c9152f76c: /content\u0007\u001b[01;32mroot@f64c9152f76c\u001b[00m:\u001b[01;34m/content\u001b[00m# exit\n",
            "exit\n"
          ],
          "name": "stdout"
        }
      ]
    },
    {
      "cell_type": "code",
      "metadata": {
        "id": "qA_H91qs7IFG",
        "colab_type": "code",
        "colab": {}
      },
      "source": [
        ""
      ],
      "execution_count": 0,
      "outputs": []
    }
  ]
}